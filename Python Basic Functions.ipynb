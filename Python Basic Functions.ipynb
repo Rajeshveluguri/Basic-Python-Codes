{
 "cells": [
  {
   "cell_type": "markdown",
   "id": "22059761",
   "metadata": {},
   "source": [
    "1. Print Function\n",
    "<br> The print() function is one of the most basic yet powerful tools in Python. It allows you to display results.</br>"
   ]
  },
  {
   "cell_type": "code",
   "execution_count": 2,
   "id": "242595ee",
   "metadata": {},
   "outputs": [
    {
     "name": "stdout",
     "output_type": "stream",
     "text": [
      "Product: Laptop\n",
      "Total Sales: 1500\n",
      "Total Revenue: 3000 USD\n"
     ]
    }
   ],
   "source": [
    "def display_sales_info(product, sales, revenue):\n",
    "    print('Product', product, sep=': ')\n",
    "    print('Total Sales', sales, sep=': ')\n",
    "    print('Total Revenue', revenue, sep=': ')\n",
    "display_sales_info('Laptop', 1500, '3000 USD')"
   ]
  },
  {
   "cell_type": "markdown",
   "id": "787cdf1f",
   "metadata": {},
   "source": [
    "2. Help Function\n",
    "<br> The help() function is invaluable when you need to understand how a particular function or module works. It provides the documentation for the specified function or module.</br>"
   ]
  },
  {
   "cell_type": "code",
   "execution_count": 16,
   "id": "2229ba93",
   "metadata": {},
   "outputs": [
    {
     "name": "stdout",
     "output_type": "stream",
     "text": [
      "Help on function calculate_discounted_price in module __main__:\n",
      "\n",
      "calculate_discounted_price(price, discount)\n",
      "        Calculate the discounted price of a product. \n",
      "    \n",
      "    price: original price of the product \n",
      "    discount: discount percentage to be applied returns: float\n",
      "\n"
     ]
    }
   ],
   "source": [
    "def calculate_discounted_price(price, discount): \n",
    "    \"\"\" \n",
    "    Calculate the discounted price of a product. \n",
    "\n",
    "price: original price of the product \n",
    "discount: discount percentage to be applied returns: float \n",
    "\"\"\" \n",
    "\n",
    "    return price * (1 - discount / 100) \n",
    "\n",
    "calculate_discounted_price(1000, 10)\n",
    "help(calculate_discounted_price)\n"
   ]
  },
  {
   "cell_type": "code",
   "execution_count": 18,
   "id": "b1ca888c",
   "metadata": {},
   "outputs": [
    {
     "name": "stdout",
     "output_type": "stream",
     "text": [
      "Discountedvalue: 900.0\n",
      "Help on function calculate_discounted_price in module __main__:\n",
      "\n",
      "calculate_discounted_price(price, discount)\n",
      "        Calculate the discounted price of a product. \n",
      "    \n",
      "    price: original price of the product \n",
      "    discount: discount percentage to be applied returns: float\n",
      "\n"
     ]
    }
   ],
   "source": [
    "def calculate_discounted_price(price, discount): \n",
    "    \"\"\" \n",
    "    Calculate the discounted price of a product. \n",
    "\n",
    "price: original price of the product \n",
    "discount: discount percentage to be applied returns: float \n",
    "\"\"\" \n",
    "\n",
    "    discountvalue = price * (1 - discount / 100) \n",
    "    print('Discountedvalue', discountvalue, sep= ': ' )\n",
    "\n",
    "calculate_discounted_price(1000, 10)\n",
    "help(calculate_discounted_price)"
   ]
  },
  {
   "cell_type": "markdown",
   "id": "8f080b2a",
   "metadata": {},
   "source": [
    "3. Range Function\n",
    "<br> The range() function generates a sequence of numbers, which is useful for iterating over with loops.</br>\n"
   ]
  },
  {
   "cell_type": "code",
   "execution_count": 19,
   "id": "2d033099",
   "metadata": {},
   "outputs": [
    {
     "name": "stdout",
     "output_type": "stream",
     "text": [
      "[1, 2, 3, 4, 5, 6, 7]\n"
     ]
    }
   ],
   "source": [
    "def generate_sales_days(start_day, end_day):\n",
    " return list(range(start_day, end_day + 1))\n",
    "\n",
    "print(generate_sales_days(1, 7)) # Generates days of the week\n"
   ]
  },
  {
   "cell_type": "markdown",
   "id": "e5086b31",
   "metadata": {},
   "source": [
    "4. Map Function\n",
    "<br> The map() function applies a given function to all items in an input list. </br>"
   ]
  },
  {
   "cell_type": "code",
   "execution_count": 20,
   "id": "903c16a4",
   "metadata": {},
   "outputs": [
    {
     "name": "stdout",
     "output_type": "stream",
     "text": [
      "[90.0, 180.0, 270.0, 360.0, 450.0]\n"
     ]
    }
   ],
   "source": [
    "def apply_discount(prices, discount):\n",
    " return list(map(lambda x: x * (1 - discount / 100), prices))\n",
    "print(apply_discount([100, 200, 300, 400, 500], 10)) # Apply a 10% discount"
   ]
  },
  {
   "cell_type": "markdown",
   "id": "0ff0d7dc",
   "metadata": {},
   "source": [
    "5. Filter Function\n",
    "<br> The filter() function constructs an iterator from elements of an iterable for which a function returns true.</br>"
   ]
  },
  {
   "cell_type": "code",
   "execution_count": 21,
   "id": "cc67174e",
   "metadata": {},
   "outputs": [
    {
     "name": "stdout",
     "output_type": "stream",
     "text": [
      "[200, 300]\n"
     ]
    }
   ],
   "source": [
    "def filter_high_sales(sales, threshold):\n",
    " return list(filter(lambda x: x > threshold, sales))\n",
    "\n",
    "print(filter_high_sales([100, 200, 50, 300, 150], 150)) # Filter sales greater than 150\n"
   ]
  },
  {
   "cell_type": "markdown",
   "id": "2695dbd7",
   "metadata": {},
   "source": [
    "6. Sorted Function\n",
    "<br> The sorted() function returns a sorted list from the items in an iterable. Use reverse=True to reverse the order.</br>"
   ]
  },
  {
   "cell_type": "code",
   "execution_count": 22,
   "id": "e80365f2",
   "metadata": {},
   "outputs": [
    {
     "name": "stdout",
     "output_type": "stream",
     "text": [
      "[{'Product': 'Laptop', 'Sales': 150}, {'Product': 'Keyboard', 'Sales': 200}, {'Product': 'Mouse', 'Sales': 300}]\n"
     ]
    }
   ],
   "source": [
    "def sort_sales_data_by_sales(data):\n",
    " return sorted(data, key=lambda x: x['Sales'])\n",
    "sales_data = [\n",
    " {'Product': 'Laptop', 'Sales': 150},\n",
    " {'Product': 'Mouse', 'Sales': 300},\n",
    " {'Product': 'Keyboard', 'Sales': 200},\n",
    "]\n",
    "print(sort_sales_data_by_sales(sales_data))"
   ]
  },
  {
   "cell_type": "markdown",
   "id": "f3ab89cd",
   "metadata": {},
   "source": [
    "7. Enumerate Function\n",
    "<br> The enumerate() function adds a counter to an iterable and returns it in a form of an enumerate object.</br>"
   ]
  },
  {
   "cell_type": "code",
   "execution_count": 23,
   "id": "3d56d847",
   "metadata": {},
   "outputs": [
    {
     "name": "stdout",
     "output_type": "stream",
     "text": [
      "1. Laptop\n",
      "2. Mouse\n",
      "3. Keyboard\n"
     ]
    }
   ],
   "source": [
    "def list_products_with_index(products):\n",
    " for index, product in enumerate(products):\n",
    "  print(f\"{index + 1}. {product}\")\n",
    "\n",
    "list_products_with_index(['Laptop', 'Mouse', 'Keyboard'])8. "
   ]
  },
  {
   "cell_type": "markdown",
   "id": "2d2e295b",
   "metadata": {},
   "source": [
    "8. Zip Function\n",
    "<br> The zip() function returns an iterator of tuples, where the first item in each passed iterator is paired together, and then the second item in each passed iterator is paired together, etc. </br>"
   ]
  },
  {
   "cell_type": "code",
   "execution_count": 27,
   "id": "8616a66e",
   "metadata": {},
   "outputs": [
    {
     "name": "stdout",
     "output_type": "stream",
     "text": [
      "[('Laptop', 150), ('Mouse', 300), ('Keyboard', 200)]\n"
     ]
    }
   ],
   "source": [
    "def combine_sales_data(products, sales):\n",
    " return list(zip(products, sales))\n",
    "\n",
    "print(combine_sales_data(['Laptop', 'Mouse', 'Keyboard'], [150, 300, 200]))"
   ]
  },
  {
   "cell_type": "code",
   "execution_count": 26,
   "id": "2300d938",
   "metadata": {},
   "outputs": [
    {
     "name": "stdout",
     "output_type": "stream",
     "text": [
      "[('Laptop', 150, 'Hyd'), ('Mouse', 300, 'Del'), ('Keyboard', 200, 'Chn')]\n"
     ]
    }
   ],
   "source": [
    "def combine_sales_data(products, sales, city):\n",
    " return list(zip(products, sales, city))\n",
    "print(combine_sales_data(['Laptop', 'Mouse', 'Keyboard'], [150, 300, 200], ['Hyd', 'Del', 'Chn']))"
   ]
  },
  {
   "cell_type": "markdown",
   "id": "971e4771",
   "metadata": {},
   "source": [
    "9. Open Function\n",
    "<br> The open() function opens a file, returning a file object that allows you to read from or write to the file. </br>"
   ]
  },
  {
   "cell_type": "code",
   "execution_count": 49,
   "id": "74461edb",
   "metadata": {},
   "outputs": [
    {
     "name": "stdout",
     "output_type": "stream",
     "text": [
      "Product: Laptop\n",
      "Sales: 150\n",
      "Product: Laptop\n",
      "Sales: 150\n",
      "Product: Mouse\n",
      "Sales: 300\n"
     ]
    }
   ],
   "source": [
    "def write_sales_to_file(filename, content):\n",
    "     with open(filename, \"w\") as file:\n",
    "             file.write(content)\n",
    "\n",
    "def read_sales_file(filename):\n",
    "     with open(filename, \"r\") as file:\n",
    "         return file.read()\n",
    "\n",
    "def append_sales_to_file(filename, content):\n",
    "    with open(filename, \"a\") as file:\n",
    "        file.write(content)\n",
    "        \n",
    "write_sales_to_file(\"sales.txt\", \"Product: Laptop\\nSales: 150\")\n",
    "print(read_sales_file(\"sales.txt\"))\n",
    "\n",
    "append_sales_to_file(\"sales.txt\", \"\\nProduct: Mouse\\nSales: 300\")\n",
    "print(read_sales_file(\"sales.txt\"))"
   ]
  },
  {
   "cell_type": "markdown",
   "id": "a52466a2",
   "metadata": {},
   "source": [
    "10 Sum Function:\n",
    "<br> The sum() function sums the items of an iterable from left to right and returns the total. You can also set the “start” parameter to add to a number. </br>"
   ]
  },
  {
   "cell_type": "code",
   "execution_count": 52,
   "id": "b608d1f4",
   "metadata": {},
   "outputs": [
    {
     "name": "stdout",
     "output_type": "stream",
     "text": [
      "650\n"
     ]
    }
   ],
   "source": [
    "def calculate_total_sales(sales):\n",
    " return sum(sales)\n",
    "\n",
    "print(calculate_total_sales([150, 300, 200]))"
   ]
  },
  {
   "cell_type": "markdown",
   "id": "435c5ea5",
   "metadata": {},
   "source": [
    "Product Function"
   ]
  },
  {
   "cell_type": "code",
   "execution_count": 58,
   "id": "3c328b87",
   "metadata": {},
   "outputs": [
    {
     "name": "stdout",
     "output_type": "stream",
     "text": [
      "arr product : 120\n",
      "tuple product:  0.21\n",
      "range product:  3628800\n"
     ]
    }
   ],
   "source": [
    "# Python Program to explain math.prod() method \n",
    "  \n",
    "# Importing math module \n",
    "import math \n",
    "  \n",
    "# list \n",
    "arr = [1, 2, 3, 4, 5] \n",
    "  \n",
    "# Calculate the product of \n",
    "# of all elements present \n",
    "# in the given list \n",
    "product = math.prod(arr) \n",
    "print('arr product :', product) \n",
    "\n",
    "# tuple \n",
    "tup = (0.5, 0.6, 0.7) \n",
    "  \n",
    "# Calculate the product  \n",
    "# of all elements present \n",
    "# in the given tuple \n",
    "product = math.prod(tup) \n",
    "print('tuple product: ', product) \n",
    "  \n",
    "# range \n",
    "seq = range(1, 11) \n",
    "  \n",
    "# Calculate the product  \n",
    "# of all elements present \n",
    "# in the given range \n",
    "product = math.prod(seq) \n",
    "print('range product: ', product) "
   ]
  },
  {
   "cell_type": "markdown",
   "id": "6d195862",
   "metadata": {},
   "source": [
    "dict.get() — a dictionary method that retrieves the value associated with a specified key, returning a default value if the key is not found.\n",
    "<br> requests.get( ) — sends a GET request to a specified URL and returns a Response object containing the server's response data.</br> \n",
    "response.json() — parses the JSON content of a Response object and returns it as a Python dictionary.\n",
    "<br> json.load() — reads a JSON formatted file and converts its content into a corresponding Python dictionary or list.</br>\n",
    "df.to_csv() — writes the contents of a DataFrame to a CSV file, with various options for specifying the file path, delimiter, and other formatting parameters.\n",
    "join() — concatenates the elements of an iterable (such as a list or tuple) into a single string, with a specified separator between each element"
   ]
  }
 ],
 "metadata": {
  "kernelspec": {
   "display_name": "Python 3 (ipykernel)",
   "language": "python",
   "name": "python3"
  },
  "language_info": {
   "codemirror_mode": {
    "name": "ipython",
    "version": 3
   },
   "file_extension": ".py",
   "mimetype": "text/x-python",
   "name": "python",
   "nbconvert_exporter": "python",
   "pygments_lexer": "ipython3",
   "version": "3.11.5"
  }
 },
 "nbformat": 4,
 "nbformat_minor": 5
}
